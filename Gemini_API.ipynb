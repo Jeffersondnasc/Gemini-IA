{
  "nbformat": 4,
  "nbformat_minor": 0,
  "metadata": {
    "colab": {
      "provenance": [],
      "authorship_tag": "ABX9TyOgJ6/yaU5LTdGdzDwNhHIY",
      "include_colab_link": true
    },
    "kernelspec": {
      "name": "python3",
      "display_name": "Python 3"
    },
    "language_info": {
      "name": "python"
    }
  },
  "cells": [
    {
      "cell_type": "markdown",
      "metadata": {
        "id": "view-in-github",
        "colab_type": "text"
      },
      "source": [
        "<a href=\"https://colab.research.google.com/github/Jeffersondnasc/Gemini-IA/blob/main/Gemini_API.ipynb\" target=\"_parent\"><img src=\"https://colab.research.google.com/assets/colab-badge.svg\" alt=\"Open In Colab\"/></a>"
      ]
    },
    {
      "cell_type": "code",
      "execution_count": null,
      "metadata": {
        "id": "voKUq9O_7Rks"
      },
      "outputs": [],
      "source": [
        "!pip install -q -U google-generativeai"
      ]
    },
    {
      "cell_type": "markdown",
      "source": [],
      "metadata": {
        "id": "MvA242UhCH-q"
      }
    },
    {
      "cell_type": "code",
      "source": [],
      "metadata": {
        "id": "KeEvEhyyCI96"
      },
      "execution_count": null,
      "outputs": []
    },
    {
      "cell_type": "code",
      "execution_count": null,
      "metadata": {
        "id": "HTiaTu6O1LRC"
      },
      "outputs": [],
      "source": [
        "# Import the Python SDK\n",
        "import google.generativeai as genai\n",
        "from google.colab import userdata\n",
        "api_key = userdata.get('secretkey')\n",
        "genai.configure(api_key=api_key)"
      ]
    },
    {
      "cell_type": "markdown",
      "source": [],
      "metadata": {
        "id": "oq60Ny5JCinu"
      }
    },
    {
      "cell_type": "code",
      "source": [
        "for m in genai.list_models():\n",
        "  if 'generateContent' in m.supported_generation_methods:\n",
        "    print(m.name)"
      ],
      "metadata": {
        "colab": {
          "base_uri": "https://localhost:8080/",
          "height": 138
        },
        "id": "ZaIpgdjMCjRg",
        "outputId": "07314319-7a75-4e6d-8c6c-bec688bacd03"
      },
      "execution_count": null,
      "outputs": [
        {
          "output_type": "stream",
          "name": "stdout",
          "text": [
            "models/gemini-1.0-pro\n",
            "models/gemini-1.0-pro-001\n",
            "models/gemini-1.0-pro-latest\n",
            "models/gemini-1.0-pro-vision-latest\n",
            "models/gemini-1.5-pro-latest\n",
            "models/gemini-pro\n",
            "models/gemini-pro-vision\n"
          ]
        }
      ]
    },
    {
      "cell_type": "code",
      "source": [
        "generation_config = {\n",
        "    \"candidate_count\":1,\n",
        "    \"temperature\": 0.5,\n",
        "\n",
        "}"
      ],
      "metadata": {
        "id": "GiZeYiRkEsqE"
      },
      "execution_count": null,
      "outputs": []
    },
    {
      "cell_type": "markdown",
      "source": [
        "# Nova seção"
      ],
      "metadata": {
        "id": "RwfyLMgv8trj"
      }
    },
    {
      "cell_type": "code",
      "source": [
        "safety_settings={\n",
        "    \"HARASSMENT\":\"BLOCk_NONE\",\n",
        "    \"HATE\":\"BLOCk_NONE\",\n",
        "    \"SEXUAL\":\"BLOCk_NONE\",\n",
        "    \"DANGEROUS\":\"BLOCk_NONE\",\n",
        "}"
      ],
      "metadata": {
        "id": "C9XJCYr2FMvt"
      },
      "execution_count": null,
      "outputs": []
    },
    {
      "cell_type": "markdown",
      "source": [],
      "metadata": {
        "id": "G09xXmvbG31G"
      }
    },
    {
      "cell_type": "code",
      "source": [
        "model = genai.GenerativeModel(model_name=\"gemini-1.0-pro\",\n",
        "                              generation_config=generation_config,\n",
        "                              safety_settings=safety_settings)\n"
      ],
      "metadata": {
        "id": "i7geQEqMG_W5"
      },
      "execution_count": null,
      "outputs": []
    },
    {
      "cell_type": "markdown",
      "source": [],
      "metadata": {
        "id": "j7e-PsubHqBF"
      }
    },
    {
      "cell_type": "code",
      "source": [],
      "metadata": {
        "id": "F0QBkWi7LNS7"
      },
      "execution_count": null,
      "outputs": []
    },
    {
      "cell_type": "code",
      "execution_count": null,
      "metadata": {
        "id": "j51mcrLD4Y2W",
        "outputId": "c260c1ce-dfd9-4625-9507-3ca52fa8a985",
        "colab": {
          "base_uri": "https://localhost:8080/",
          "height": 783
        }
      },
      "outputs": [
        {
          "output_type": "stream",
          "name": "stdout",
          "text": [
            "**Inteligência Artificial (IA)**\n",
            "\n",
            "A Inteligência Artificial (IA) é um campo da ciência da computação que se concentra no desenvolvimento de sistemas que exibem inteligência humana, como aprendizado, resolução de problemas e tomada de decisão.\n",
            "\n",
            "**Tipos de IA**\n",
            "\n",
            "* **IA Fraca (Narrow AI):** Projetada para realizar tarefas específicas, como reconhecimento de imagem ou tradução de idiomas.\n",
            "* **IA Geral (Strong AI):** Sistemas que podem executar uma ampla gama de tarefas cognitivas, como raciocínio, planejamento e compreensão.\n",
            "* **IA Superinteligente (Super AI):** Sistemas que superam as capacidades cognitivas humanas em todos os aspectos.\n",
            "\n",
            "**Aplicações da IA**\n",
            "\n",
            "A IA tem inúmeras aplicações em vários setores, incluindo:\n",
            "\n",
            "* **Saúde:** Diagnóstico médico, descoberta de medicamentos, monitoramento de pacientes\n",
            "* **Finanças:** Detecção de fraudes, gerenciamento de investimentos, negociação algorítmica\n",
            "* **Transporte:** Veículos autônomos, otimização de rotas, gerenciamento de tráfego\n",
            "* **Manufatura:** Automação de processos, controle de qualidade, otimização de produção\n",
            "* **Atendimento ao Cliente:** Chatbots, assistentes virtuais, análise de sentimento\n",
            "\n",
            "**Benefícios da IA**\n",
            "\n",
            "* **Automação:** Libertação de humanos de tarefas repetitivas e demoradas.\n",
            "* **Eficiência:** Otimização de processos e aumento da produtividade.\n",
            "* **Precisão:** Redução de erros e melhoria da tomada de decisão.\n",
            "* **Personalização:** Fornecimento de experiências personalizadas e relevantes.\n",
            "* **Inovação:** Habilitando novas ideias e soluções.\n",
            "\n",
            "**Desafios da IA**\n",
            "\n",
            "* **Preconceito:** Os sistemas de IA podem perpetuar preconceitos existentes nos dados usados para treiná-los.\n",
            "* **Privacidade:** A IA pode levantar preocupações sobre a privacidade, pois requer grandes quantidades de dados.\n",
            "* **Desemprego:** A automação pode levar à perda de empregos em alguns setores.\n",
            "* **Regulamentação:** A necessidade de regulamentações para garantir o uso ético e responsável da IA.\n",
            "* **Implicações éticas:** Considerações sobre o impacto da IA na sociedade, como a tomada de decisões automatizada e o potencial de armas autônomas.\n",
            "\n",
            "**Tendências da IA**\n",
            "\n",
            "* **Aprendizado de Máquina (ML):** Algoritmos que permitem que os sistemas aprendam com os dados sem serem explicitamente programados.\n",
            "* **Aprendizado Profundo (DL):** Uma forma avançada de ML que usa redes neurais artificiais para analisar dados complexos.\n",
            "* **Processamento de Linguagem Natural (PNL):** Sistemas que permitem que os computadores entendam e gerem a linguagem humana.\n",
            "* **Visão Computacional:** Algoritmos que permitem que os computadores \"vejam\" e interpretem imagens e vídeos.\n",
            "* **IA Explicável:** Sistemas que podem explicar suas decisões e raciocínios.\n"
          ]
        }
      ],
      "source": [
        "response = model.generate_content(\"Conteúdo sobre IA\")\n",
        "print(response.text)"
      ]
    },
    {
      "cell_type": "markdown",
      "source": [],
      "metadata": {
        "id": "cHDdOMp8Hp9n"
      }
    },
    {
      "cell_type": "code",
      "source": [
        "chat = model.start_chat(history=[])"
      ],
      "metadata": {
        "id": "_iAOXHDvLYzJ"
      },
      "execution_count": null,
      "outputs": []
    },
    {
      "cell_type": "code",
      "source": [
        "prompt =input(\"Esperando prompt: \")\n",
        "\n",
        "while prompt != \"fim\":\n",
        "  response=chat.send_message(prompt)\n",
        "  print(\"Resposta: \", response.text, \"\\n\")\n",
        "  prompt =input(\"Esperando prompt: \")"
      ],
      "metadata": {
        "colab": {
          "base_uri": "https://localhost:8080/",
          "height": 708
        },
        "id": "cGBUoZpzLsrE",
        "outputId": "934c86b8-16c7-454c-8cf0-770b5c694508"
      },
      "execution_count": null,
      "outputs": [
        {
          "output_type": "stream",
          "name": "stdout",
          "text": [
            "Esperando prompt: Qual é a capital do Japão\n",
            "Resposta:  Tóquio \n",
            "\n",
            "Esperando prompt: Qual é a comida tipica deste pais\n",
            "Resposta:  Sushi \n",
            "\n",
            "Esperando prompt: Qual é a capital da nigeria?\n",
            "Resposta:  Abuja \n",
            "\n",
            "Esperando prompt: Qual a comida tipica da nigéria\n",
            "Resposta:  Fufu \n",
            "\n",
            "Esperando prompt: oque é o fufu\n",
            "Resposta:  Fufu é um prato básico da África Ocidental feito de raiz de mandioca ou inhame amassado. É uma massa espessa e pegajosa que é normalmente servida com sopas ou ensopados. Fufu é um alimento básico em muitos países da África Ocidental, incluindo Nigéria, Gana e Serra Leoa.\n",
            "\n",
            "Para fazer fufu, a raiz de mandioca ou inhame é descascada, fervida e depois amassada até formar uma massa lisa. A massa é então enrolada em bolas e servida com sopa ou ensopado. Fufu também pode ser usado para fazer outros pratos, como eba e amala.\n",
            "\n",
            "Fufu é uma boa fonte de carboidratos e fibras. Também é uma boa fonte de vitaminas e minerais, incluindo potássio, magnésio e vitamina C. \n",
            "\n"
          ]
        },
        {
          "output_type": "error",
          "ename": "KeyboardInterrupt",
          "evalue": "Interrupted by user",
          "traceback": [
            "\u001b[0;31m---------------------------------------------------------------------------\u001b[0m",
            "\u001b[0;31mKeyboardInterrupt\u001b[0m                         Traceback (most recent call last)",
            "\u001b[0;32m<ipython-input-24-8360ea4a9e13>\u001b[0m in \u001b[0;36m<cell line: 3>\u001b[0;34m()\u001b[0m\n\u001b[1;32m      4\u001b[0m   \u001b[0mresponse\u001b[0m\u001b[0;34m=\u001b[0m\u001b[0mchat\u001b[0m\u001b[0;34m.\u001b[0m\u001b[0msend_message\u001b[0m\u001b[0;34m(\u001b[0m\u001b[0mprompt\u001b[0m\u001b[0;34m)\u001b[0m\u001b[0;34m\u001b[0m\u001b[0;34m\u001b[0m\u001b[0m\n\u001b[1;32m      5\u001b[0m   \u001b[0mprint\u001b[0m\u001b[0;34m(\u001b[0m\u001b[0;34m\"Resposta: \"\u001b[0m\u001b[0;34m,\u001b[0m \u001b[0mresponse\u001b[0m\u001b[0;34m.\u001b[0m\u001b[0mtext\u001b[0m\u001b[0;34m,\u001b[0m \u001b[0;34m\"\\n\"\u001b[0m\u001b[0;34m)\u001b[0m\u001b[0;34m\u001b[0m\u001b[0;34m\u001b[0m\u001b[0m\n\u001b[0;32m----> 6\u001b[0;31m   \u001b[0mprompt\u001b[0m \u001b[0;34m=\u001b[0m\u001b[0minput\u001b[0m\u001b[0;34m(\u001b[0m\u001b[0;34m\"Esperando prompt: \"\u001b[0m\u001b[0;34m)\u001b[0m\u001b[0;34m\u001b[0m\u001b[0;34m\u001b[0m\u001b[0m\n\u001b[0m",
            "\u001b[0;32m/usr/local/lib/python3.10/dist-packages/ipykernel/kernelbase.py\u001b[0m in \u001b[0;36mraw_input\u001b[0;34m(self, prompt)\u001b[0m\n\u001b[1;32m    849\u001b[0m                 \u001b[0;34m\"raw_input was called, but this frontend does not support input requests.\"\u001b[0m\u001b[0;34m\u001b[0m\u001b[0;34m\u001b[0m\u001b[0m\n\u001b[1;32m    850\u001b[0m             )\n\u001b[0;32m--> 851\u001b[0;31m         return self._input_request(str(prompt),\n\u001b[0m\u001b[1;32m    852\u001b[0m             \u001b[0mself\u001b[0m\u001b[0;34m.\u001b[0m\u001b[0m_parent_ident\u001b[0m\u001b[0;34m,\u001b[0m\u001b[0;34m\u001b[0m\u001b[0;34m\u001b[0m\u001b[0m\n\u001b[1;32m    853\u001b[0m             \u001b[0mself\u001b[0m\u001b[0;34m.\u001b[0m\u001b[0m_parent_header\u001b[0m\u001b[0;34m,\u001b[0m\u001b[0;34m\u001b[0m\u001b[0;34m\u001b[0m\u001b[0m\n",
            "\u001b[0;32m/usr/local/lib/python3.10/dist-packages/ipykernel/kernelbase.py\u001b[0m in \u001b[0;36m_input_request\u001b[0;34m(self, prompt, ident, parent, password)\u001b[0m\n\u001b[1;32m    893\u001b[0m             \u001b[0;32mexcept\u001b[0m \u001b[0mKeyboardInterrupt\u001b[0m\u001b[0;34m:\u001b[0m\u001b[0;34m\u001b[0m\u001b[0;34m\u001b[0m\u001b[0m\n\u001b[1;32m    894\u001b[0m                 \u001b[0;31m# re-raise KeyboardInterrupt, to truncate traceback\u001b[0m\u001b[0;34m\u001b[0m\u001b[0;34m\u001b[0m\u001b[0m\n\u001b[0;32m--> 895\u001b[0;31m                 \u001b[0;32mraise\u001b[0m \u001b[0mKeyboardInterrupt\u001b[0m\u001b[0;34m(\u001b[0m\u001b[0;34m\"Interrupted by user\"\u001b[0m\u001b[0;34m)\u001b[0m \u001b[0;32mfrom\u001b[0m \u001b[0;32mNone\u001b[0m\u001b[0;34m\u001b[0m\u001b[0;34m\u001b[0m\u001b[0m\n\u001b[0m\u001b[1;32m    896\u001b[0m             \u001b[0;32mexcept\u001b[0m \u001b[0mException\u001b[0m \u001b[0;32mas\u001b[0m \u001b[0me\u001b[0m\u001b[0;34m:\u001b[0m\u001b[0;34m\u001b[0m\u001b[0;34m\u001b[0m\u001b[0m\n\u001b[1;32m    897\u001b[0m                 \u001b[0mself\u001b[0m\u001b[0;34m.\u001b[0m\u001b[0mlog\u001b[0m\u001b[0;34m.\u001b[0m\u001b[0mwarning\u001b[0m\u001b[0;34m(\u001b[0m\u001b[0;34m\"Invalid Message:\"\u001b[0m\u001b[0;34m,\u001b[0m \u001b[0mexc_info\u001b[0m\u001b[0;34m=\u001b[0m\u001b[0;32mTrue\u001b[0m\u001b[0;34m)\u001b[0m\u001b[0;34m\u001b[0m\u001b[0;34m\u001b[0m\u001b[0m\n",
            "\u001b[0;31mKeyboardInterrupt\u001b[0m: Interrupted by user"
          ]
        }
      ]
    },
    {
      "cell_type": "code",
      "source": [
        "chat.history\n"
      ],
      "metadata": {
        "colab": {
          "base_uri": "https://localhost:8080/"
        },
        "id": "hx4Ppl7oNPkv",
        "outputId": "4fd35ced-f194-4ced-de21-76cc0255e94a"
      },
      "execution_count": null,
      "outputs": [
        {
          "output_type": "execute_result",
          "data": {
            "text/plain": [
              "[parts {\n",
              "   text: \"Qual \\303\\251 a capital do Jap\\303\\243o\"\n",
              " }\n",
              " role: \"user\",\n",
              " parts {\n",
              "   text: \"T\\303\\263quio\"\n",
              " }\n",
              " role: \"model\",\n",
              " parts {\n",
              "   text: \"Qual \\303\\251 a comida tipica deste pais\"\n",
              " }\n",
              " role: \"user\",\n",
              " parts {\n",
              "   text: \"Sushi\"\n",
              " }\n",
              " role: \"model\",\n",
              " parts {\n",
              "   text: \"Qual \\303\\251 a capital da nigeria?\"\n",
              " }\n",
              " role: \"user\",\n",
              " parts {\n",
              "   text: \"Abuja\"\n",
              " }\n",
              " role: \"model\",\n",
              " parts {\n",
              "   text: \"Qual a comida tipica da nig\\303\\251ria\"\n",
              " }\n",
              " role: \"user\",\n",
              " parts {\n",
              "   text: \"Fufu\"\n",
              " }\n",
              " role: \"model\",\n",
              " parts {\n",
              "   text: \"oque \\303\\251 o fufu\"\n",
              " }\n",
              " role: \"user\",\n",
              " parts {\n",
              "   text: \"Fufu \\303\\251 um prato b\\303\\241sico da \\303\\201frica Ocidental feito de raiz de mandioca ou inhame amassado. \\303\\211 uma massa espessa e pegajosa que \\303\\251 normalmente servida com sopas ou ensopados. Fufu \\303\\251 um alimento b\\303\\241sico em muitos pa\\303\\255ses da \\303\\201frica Ocidental, incluindo Nig\\303\\251ria, Gana e Serra Leoa.\\n\\nPara fazer fufu, a raiz de mandioca ou inhame \\303\\251 descascada, fervida e depois amassada at\\303\\251 formar uma massa lisa. A massa \\303\\251 ent\\303\\243o enrolada em bolas e servida com sopa ou ensopado. Fufu tamb\\303\\251m pode ser usado para fazer outros pratos, como eba e amala.\\n\\nFufu \\303\\251 uma boa fonte de carboidratos e fibras. Tamb\\303\\251m \\303\\251 uma boa fonte de vitaminas e minerais, incluindo pot\\303\\241ssio, magn\\303\\251sio e vitamina C.\"\n",
              " }\n",
              " role: \"model\"]"
            ]
          },
          "metadata": {},
          "execution_count": 25
        }
      ]
    }
  ]
}